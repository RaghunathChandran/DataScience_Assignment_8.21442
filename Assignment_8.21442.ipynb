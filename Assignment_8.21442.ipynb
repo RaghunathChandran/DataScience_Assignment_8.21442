{
 "cells": [
  {
   "cell_type": "markdown",
   "metadata": {},
   "source": [
    "# Session 13: Assignment 1 - Raghunath"
   ]
  },
  {
   "cell_type": "markdown",
   "metadata": {},
   "source": [
    "## Read the following data set: \n",
    "    https://archive.ics.uci.edu/ml/machine-learning-databases/adult/adult.data "
   ]
  },
  {
   "cell_type": "code",
   "execution_count": 1,
   "metadata": {},
   "outputs": [],
   "source": [
    "import pandas as pd\n",
    "df = pd.read_csv('https://archive.ics.uci.edu/ml/machine-learning-databases/adult/adult.data', skipinitialspace=True)"
   ]
  },
  {
   "cell_type": "code",
   "execution_count": 2,
   "metadata": {},
   "outputs": [],
   "source": [
    "# rename columns with meaningful names\n",
    "headers = ['age', 'workclass','fnlwgt', 'education','educationnum', 'maritalstatus','occupation','relationship','race','sex',\n",
    "          'capitalgain','capitalloss', 'hoursperweek','nativecountry', 'lessThanEqualTo50K']\n",
    "df.columns= headers"
   ]
  },
  {
   "cell_type": "code",
   "execution_count": 3,
   "metadata": {},
   "outputs": [],
   "source": [
    "from sqlalchemy import Column, Integer, Float, Date, String, VARCHAR, BigInteger\n",
    "from sqlalchemy.ext.declarative import declarative_base\n",
    "from sqlalchemy import create_engine\n",
    "from sqlalchemy.orm import sessionmaker\n",
    "\n",
    "Base = declarative_base()\n",
    "class AdultData(Base):\n",
    "    __tablename__ = 'adult_data'\n",
    "     \n",
    "    index = Column(BigInteger, primary_key=True)\n",
    "    age = Column(BigInteger)\n",
    "    workclass = Column(String)\n",
    "    fnlwgt = Column(BigInteger)\n",
    "    education = Column(String)\n",
    "    educationnum = Column(BigInteger)\n",
    "    maritalstatus = Column(String)\n",
    "    occupation = Column(String)\n",
    "    relationship = Column(String)\n",
    "    race = Column(String)\n",
    "    sex = Column(String)\n",
    "    capitalgain = Column(BigInteger)\n",
    "    capitalloss = Column(BigInteger)\n",
    "    hoursperweek = Column(BigInteger)\n",
    "    nativecountry = Column(String)\n",
    "    lessThanEqualTo50K = Column(String)\n",
    "\n",
    "    def __repr__(self):\n",
    "        return \"<adultdata(index='%s', age='%s', workclass='%s', education ='%s', occupation='%s', race='%s', gender='%s')>\" % (\n",
    "                             self.index, self.age, self.workclass, self.education, self.occupation, self.race, self.sex)\n"
   ]
  },
  {
   "cell_type": "markdown",
   "metadata": {},
   "source": [
    "### 1.  Create an sqlalchemy engine using a sample from the data set "
   ]
  },
  {
   "cell_type": "code",
   "execution_count": 4,
   "metadata": {},
   "outputs": [],
   "source": [
    "# sample data set from top 50 records\n",
    "adult_df = df.head(50).copy()\n",
    "adult_df.head()\n",
    "\n",
    "engine = create_engine('sqlite:///AdultData.db')\n",
    "Base.metadata.create_all(engine)\n",
    "adult_df.to_sql(con=engine, index_label='index', name=AdultData.__tablename__, if_exists='replace')"
   ]
  },
  {
   "cell_type": "code",
   "execution_count": 5,
   "metadata": {},
   "outputs": [
    {
     "data": {
      "text/plain": [
       "[<adultdata(index='0', age='50', workclass='Self-emp-not-inc', education ='Bachelors', occupation='Exec-managerial', race='White', gender='Male')>,\n",
       " <adultdata(index='1', age='38', workclass='Private', education ='HS-grad', occupation='Handlers-cleaners', race='White', gender='Male')>,\n",
       " <adultdata(index='2', age='53', workclass='Private', education ='11th', occupation='Handlers-cleaners', race='Black', gender='Male')>,\n",
       " <adultdata(index='3', age='28', workclass='Private', education ='Bachelors', occupation='Prof-specialty', race='Black', gender='Female')>,\n",
       " <adultdata(index='4', age='37', workclass='Private', education ='Masters', occupation='Exec-managerial', race='White', gender='Female')>,\n",
       " <adultdata(index='5', age='49', workclass='Private', education ='9th', occupation='Other-service', race='Black', gender='Female')>,\n",
       " <adultdata(index='6', age='52', workclass='Self-emp-not-inc', education ='HS-grad', occupation='Exec-managerial', race='White', gender='Male')>,\n",
       " <adultdata(index='7', age='31', workclass='Private', education ='Masters', occupation='Prof-specialty', race='White', gender='Female')>,\n",
       " <adultdata(index='8', age='42', workclass='Private', education ='Bachelors', occupation='Exec-managerial', race='White', gender='Male')>,\n",
       " <adultdata(index='9', age='37', workclass='Private', education ='Some-college', occupation='Exec-managerial', race='Black', gender='Male')>,\n",
       " <adultdata(index='10', age='30', workclass='State-gov', education ='Bachelors', occupation='Prof-specialty', race='Asian-Pac-Islander', gender='Male')>,\n",
       " <adultdata(index='11', age='23', workclass='Private', education ='Bachelors', occupation='Adm-clerical', race='White', gender='Female')>,\n",
       " <adultdata(index='12', age='32', workclass='Private', education ='Assoc-acdm', occupation='Sales', race='Black', gender='Male')>,\n",
       " <adultdata(index='13', age='40', workclass='Private', education ='Assoc-voc', occupation='Craft-repair', race='Asian-Pac-Islander', gender='Male')>,\n",
       " <adultdata(index='14', age='34', workclass='Private', education ='7th-8th', occupation='Transport-moving', race='Amer-Indian-Eskimo', gender='Male')>,\n",
       " <adultdata(index='15', age='25', workclass='Self-emp-not-inc', education ='HS-grad', occupation='Farming-fishing', race='White', gender='Male')>,\n",
       " <adultdata(index='16', age='32', workclass='Private', education ='HS-grad', occupation='Machine-op-inspct', race='White', gender='Male')>,\n",
       " <adultdata(index='17', age='38', workclass='Private', education ='11th', occupation='Sales', race='White', gender='Male')>,\n",
       " <adultdata(index='18', age='43', workclass='Self-emp-not-inc', education ='Masters', occupation='Exec-managerial', race='White', gender='Female')>,\n",
       " <adultdata(index='19', age='40', workclass='Private', education ='Doctorate', occupation='Prof-specialty', race='White', gender='Male')>,\n",
       " <adultdata(index='20', age='54', workclass='Private', education ='HS-grad', occupation='Other-service', race='Black', gender='Female')>,\n",
       " <adultdata(index='21', age='35', workclass='Federal-gov', education ='9th', occupation='Farming-fishing', race='Black', gender='Male')>,\n",
       " <adultdata(index='22', age='43', workclass='Private', education ='11th', occupation='Transport-moving', race='White', gender='Male')>,\n",
       " <adultdata(index='23', age='59', workclass='Private', education ='HS-grad', occupation='Tech-support', race='White', gender='Female')>,\n",
       " <adultdata(index='24', age='56', workclass='Local-gov', education ='Bachelors', occupation='Tech-support', race='White', gender='Male')>,\n",
       " <adultdata(index='25', age='19', workclass='Private', education ='HS-grad', occupation='Craft-repair', race='White', gender='Male')>,\n",
       " <adultdata(index='26', age='54', workclass='?', education ='Some-college', occupation='?', race='Asian-Pac-Islander', gender='Male')>,\n",
       " <adultdata(index='27', age='39', workclass='Private', education ='HS-grad', occupation='Exec-managerial', race='White', gender='Male')>,\n",
       " <adultdata(index='28', age='49', workclass='Private', education ='HS-grad', occupation='Craft-repair', race='White', gender='Male')>,\n",
       " <adultdata(index='29', age='23', workclass='Local-gov', education ='Assoc-acdm', occupation='Protective-serv', race='White', gender='Male')>,\n",
       " <adultdata(index='30', age='20', workclass='Private', education ='Some-college', occupation='Sales', race='Black', gender='Male')>,\n",
       " <adultdata(index='31', age='45', workclass='Private', education ='Bachelors', occupation='Exec-managerial', race='White', gender='Male')>,\n",
       " <adultdata(index='32', age='30', workclass='Federal-gov', education ='Some-college', occupation='Adm-clerical', race='White', gender='Male')>,\n",
       " <adultdata(index='33', age='22', workclass='State-gov', education ='Some-college', occupation='Other-service', race='Black', gender='Male')>,\n",
       " <adultdata(index='34', age='48', workclass='Private', education ='11th', occupation='Machine-op-inspct', race='White', gender='Male')>,\n",
       " <adultdata(index='35', age='21', workclass='Private', education ='Some-college', occupation='Machine-op-inspct', race='White', gender='Male')>,\n",
       " <adultdata(index='36', age='19', workclass='Private', education ='HS-grad', occupation='Adm-clerical', race='White', gender='Female')>,\n",
       " <adultdata(index='37', age='31', workclass='Private', education ='Some-college', occupation='Sales', race='White', gender='Male')>,\n",
       " <adultdata(index='38', age='48', workclass='Self-emp-not-inc', education ='Assoc-acdm', occupation='Prof-specialty', race='White', gender='Male')>,\n",
       " <adultdata(index='39', age='31', workclass='Private', education ='9th', occupation='Machine-op-inspct', race='White', gender='Male')>,\n",
       " <adultdata(index='40', age='53', workclass='Self-emp-not-inc', education ='Bachelors', occupation='Prof-specialty', race='White', gender='Male')>,\n",
       " <adultdata(index='41', age='24', workclass='Private', education ='Bachelors', occupation='Tech-support', race='White', gender='Male')>,\n",
       " <adultdata(index='42', age='49', workclass='Private', education ='HS-grad', occupation='Adm-clerical', race='White', gender='Female')>,\n",
       " <adultdata(index='43', age='25', workclass='Private', education ='HS-grad', occupation='Handlers-cleaners', race='White', gender='Male')>,\n",
       " <adultdata(index='44', age='57', workclass='Federal-gov', education ='Bachelors', occupation='Prof-specialty', race='Black', gender='Male')>,\n",
       " <adultdata(index='45', age='53', workclass='Private', education ='HS-grad', occupation='Machine-op-inspct', race='White', gender='Male')>,\n",
       " <adultdata(index='46', age='44', workclass='Private', education ='Masters', occupation='Exec-managerial', race='White', gender='Female')>,\n",
       " <adultdata(index='47', age='41', workclass='State-gov', education ='Assoc-voc', occupation='Craft-repair', race='White', gender='Male')>,\n",
       " <adultdata(index='48', age='29', workclass='Private', education ='Assoc-voc', occupation='Prof-specialty', race='White', gender='Male')>,\n",
       " <adultdata(index='49', age='25', workclass='Private', education ='Some-college', occupation='Exec-managerial', race='Other', gender='Female')>]"
      ]
     },
     "execution_count": 5,
     "metadata": {},
     "output_type": "execute_result"
    }
   ],
   "source": [
    "from sqlalchemy.orm import sessionmaker\n",
    "\n",
    "Session = sessionmaker(bind=engine)\n",
    "session = Session()\n",
    "\n",
    "data = session.query(AdultData)\n",
    "data.all()"
   ]
  },
  {
   "cell_type": "markdown",
   "metadata": {},
   "source": [
    "### 2.  Write two basic update queries "
   ]
  },
  {
   "cell_type": "code",
   "execution_count": 6,
   "metadata": {},
   "outputs": [
    {
     "name": "stdout",
     "output_type": "stream",
     "text": [
      "Record with index 8 before update: <adultdata(index='8', age='42', workclass='Private', education ='Bachelors', occupation='Exec-managerial', race='White', gender='Male')>\n",
      "Record with index 8 after updating age: <adultdata(index='8', age='43', workclass='Private', education ='Bachelors', occupation='Exec-managerial', race='White', gender='Male')>\n"
     ]
    }
   ],
   "source": [
    "from sqlalchemy import update\n",
    "adult = session.query(AdultData).filter_by(index=8).first()\n",
    "\n",
    "print(\"Record with index {0} before update: {1}\".format(adult.index, adult))\n",
    "adult.age = adult.age + 1\n",
    "session.commit()\n",
    "updated = session.query(AdultData).filter_by(index=8).first()\n",
    "print(\"Record with index {0} after updating age: {1}\".format(updated.index, updated))"
   ]
  },
  {
   "cell_type": "code",
   "execution_count": 7,
   "metadata": {},
   "outputs": [
    {
     "data": {
      "text/plain": [
       "[<adultdata(index='11', age='23', workclass='Private', education ='Bachelors', occupation='Admin-clerical', race='White', gender='Female')>,\n",
       " <adultdata(index='32', age='30', workclass='Federal-gov', education ='Some-college', occupation='Admin-clerical', race='White', gender='Male')>,\n",
       " <adultdata(index='36', age='19', workclass='Private', education ='HS-grad', occupation='Admin-clerical', race='White', gender='Female')>,\n",
       " <adultdata(index='42', age='49', workclass='Private', education ='HS-grad', occupation='Admin-clerical', race='White', gender='Female')>]"
      ]
     },
     "execution_count": 7,
     "metadata": {},
     "output_type": "execute_result"
    }
   ],
   "source": [
    "session.query(AdultData).filter(AdultData.occupation == 'Adm-clerical').\\\n",
    "update({AdultData.occupation:\"Admin-clerical\"}, synchronize_session = False)\n",
    "\n",
    "session.query(AdultData).filter(AdultData.occupation == 'Admin-clerical').all()"
   ]
  },
  {
   "cell_type": "markdown",
   "metadata": {},
   "source": [
    "### 3.  Write two delete queries"
   ]
  },
  {
   "cell_type": "code",
   "execution_count": 8,
   "metadata": {},
   "outputs": [
    {
     "name": "stdout",
     "output_type": "stream",
     "text": [
      "Before Delete :\n",
      " <adultdata(index='42', age='49', workclass='Private', education ='HS-grad', occupation='Admin-clerical', race='White', gender='Female')>\n",
      "\n",
      "After Delete :\n",
      " None\n"
     ]
    }
   ],
   "source": [
    "print(\"Before Delete :\\n {0}\".format(session.query(AdultData).filter_by(index=42).first()))\n",
    "session.query(AdultData).filter_by(index=42).delete()\n",
    "\n",
    "session.commit()\n",
    "print(\"\\nAfter Delete :\\n {0}\".format(session.query(AdultData).filter_by(index=42).first()))"
   ]
  },
  {
   "cell_type": "code",
   "execution_count": 9,
   "metadata": {},
   "outputs": [
    {
     "name": "stdout",
     "output_type": "stream",
     "text": [
      "Before Delete :\n",
      " [<adultdata(index='7', age='31', workclass='Private', education ='Masters', occupation='Prof-specialty', race='White', gender='Female')>, <adultdata(index='37', age='31', workclass='Private', education ='Some-college', occupation='Sales', race='White', gender='Male')>, <adultdata(index='39', age='31', workclass='Private', education ='9th', occupation='Machine-op-inspct', race='White', gender='Male')>]\n",
      "\n",
      "After Delete: \n",
      " []\n"
     ]
    }
   ],
   "source": [
    "print(\"Before Delete :\\n {0}\".format(session.query(AdultData).filter(AdultData.age == 31).all()))\n",
    "session.query(AdultData).filter(AdultData.age == 31).delete()\n",
    "\n",
    "session.commit()\n",
    "print(\"\\nAfter Delete: \\n {0}\".format(session.query(AdultData).filter(AdultData.age == 31).all()))"
   ]
  },
  {
   "cell_type": "markdown",
   "metadata": {},
   "source": [
    "### 4.  Write two filter queries "
   ]
  },
  {
   "cell_type": "code",
   "execution_count": 10,
   "metadata": {},
   "outputs": [
    {
     "data": {
      "text/plain": [
       "[<adultdata(index='15', age='25', workclass='Self-emp-not-inc', education ='HS-grad', occupation='Farming-fishing', race='White', gender='Male')>,\n",
       " <adultdata(index='21', age='35', workclass='Federal-gov', education ='9th', occupation='Farming-fishing', race='Black', gender='Male')>,\n",
       " <adultdata(index='23', age='59', workclass='Private', education ='HS-grad', occupation='Tech-support', race='White', gender='Female')>,\n",
       " <adultdata(index='24', age='56', workclass='Local-gov', education ='Bachelors', occupation='Tech-support', race='White', gender='Male')>,\n",
       " <adultdata(index='41', age='24', workclass='Private', education ='Bachelors', occupation='Tech-support', race='White', gender='Male')>]"
      ]
     },
     "execution_count": 10,
     "metadata": {},
     "output_type": "execute_result"
    }
   ],
   "source": [
    "from sqlalchemy import or_\n",
    "#logical or\n",
    "session.query(AdultData).filter(or_(AdultData.occupation == 'Farming-fishing', AdultData.occupation == 'Tech-support')).all()"
   ]
  },
  {
   "cell_type": "code",
   "execution_count": 11,
   "metadata": {},
   "outputs": [
    {
     "data": {
      "text/plain": [
       "[<adultdata(index='0', age='50', workclass='Self-emp-not-inc', education ='Bachelors', occupation='Exec-managerial', race='White', gender='Male')>,\n",
       " <adultdata(index='6', age='52', workclass='Self-emp-not-inc', education ='HS-grad', occupation='Exec-managerial', race='White', gender='Male')>,\n",
       " <adultdata(index='18', age='43', workclass='Self-emp-not-inc', education ='Masters', occupation='Exec-managerial', race='White', gender='Female')>]"
      ]
     },
     "execution_count": 11,
     "metadata": {},
     "output_type": "execute_result"
    }
   ],
   "source": [
    "from sqlalchemy import and_\n",
    "#logical and\n",
    "session.query(AdultData).filter(and_(AdultData.occupation == 'Exec-managerial', AdultData.workclass != 'Private')).all()"
   ]
  },
  {
   "cell_type": "markdown",
   "metadata": {},
   "source": [
    "### 5.  Write two function queries "
   ]
  },
  {
   "cell_type": "code",
   "execution_count": 12,
   "metadata": {},
   "outputs": [
    {
     "data": {
      "text/plain": [
       "[(4, '11th'),\n",
       " (1, '7th-8th'),\n",
       " (2, '9th'),\n",
       " (3, 'Assoc-acdm'),\n",
       " (3, 'Assoc-voc'),\n",
       " (10, 'Bachelors'),\n",
       " (1, 'Doctorate'),\n",
       " (12, 'HS-grad'),\n",
       " (3, 'Masters'),\n",
       " (7, 'Some-college')]"
      ]
     },
     "execution_count": 12,
     "metadata": {},
     "output_type": "execute_result"
    }
   ],
   "source": [
    "from sqlalchemy import func\n",
    "session.query(func.count(AdultData.sex), AdultData.education).group_by(AdultData.education).all()"
   ]
  },
  {
   "cell_type": "code",
   "execution_count": 13,
   "metadata": {},
   "outputs": [
    {
     "data": {
      "text/plain": [
       "46"
      ]
     },
     "execution_count": 13,
     "metadata": {},
     "output_type": "execute_result"
    }
   ],
   "source": [
    "session.query(func.count(AdultData.index)).scalar()"
   ]
  },
  {
   "cell_type": "code",
   "execution_count": 15,
   "metadata": {},
   "outputs": [
    {
     "data": {
      "text/plain": [
       "38.23913043478261"
      ]
     },
     "execution_count": 15,
     "metadata": {},
     "output_type": "execute_result"
    }
   ],
   "source": [
    "session.query(func.avg(AdultData.age)).scalar()"
   ]
  }
 ],
 "metadata": {
  "kernelspec": {
   "display_name": "Python 3",
   "language": "python",
   "name": "python3"
  },
  "language_info": {
   "codemirror_mode": {
    "name": "ipython",
    "version": 3
   },
   "file_extension": ".py",
   "mimetype": "text/x-python",
   "name": "python",
   "nbconvert_exporter": "python",
   "pygments_lexer": "ipython3",
   "version": "3.7.0"
  }
 },
 "nbformat": 4,
 "nbformat_minor": 2
}
